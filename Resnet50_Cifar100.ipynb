{
  "nbformat": 4,
  "nbformat_minor": 0,
  "metadata": {
    "colab": {
      "provenance": [],
      "gpuType": "L4"
    },
    "kernelspec": {
      "name": "python3",
      "display_name": "Python 3"
    },
    "language_info": {
      "name": "python"
    },
    "accelerator": "GPU"
  },
  "cells": [
    {
      "cell_type": "code",
      "source": [
        "from google.colab import drive\n",
        "drive.mount('/content/drive')\n"
      ],
      "metadata": {
        "colab": {
          "base_uri": "https://localhost:8080/"
        },
        "id": "NnvCcme8MzQ4",
        "outputId": "2350834f-b93e-4c61-8480-f57a4600c604"
      },
      "execution_count": 1,
      "outputs": [
        {
          "output_type": "stream",
          "name": "stdout",
          "text": [
            "Drive already mounted at /content/drive; to attempt to forcibly remount, call drive.mount(\"/content/drive\", force_remount=True).\n"
          ]
        }
      ]
    },
    {
      "cell_type": "code",
      "source": [
        "!pip install -r requirements.txt"
      ],
      "metadata": {
        "colab": {
          "base_uri": "https://localhost:8080/",
          "height": 1000
        },
        "id": "_MX0Dju-TEgV",
        "outputId": "d3887b2d-d2c1-4170-aa87-5a4449189eeb"
      },
      "execution_count": 4,
      "outputs": [
        {
          "output_type": "stream",
          "name": "stdout",
          "text": [
            "Collecting colossalai (from -r requirements.txt (line 1))\n",
            "  Downloading colossalai-0.3.6.tar.gz (1.1 MB)\n",
            "\u001b[2K     \u001b[90m━━━━━━━━━━━━━━━━━━━━━━━━━━━━━━━━━━━━━━━━\u001b[0m \u001b[32m1.1/1.1 MB\u001b[0m \u001b[31m11.1 MB/s\u001b[0m eta \u001b[36m0:00:00\u001b[0m\n",
            "\u001b[?25h  Preparing metadata (setup.py) ... \u001b[?25l\u001b[?25hdone\n",
            "Requirement already satisfied: torch in /usr/local/lib/python3.10/dist-packages (from -r requirements.txt (line 2)) (2.2.1+cu121)\n",
            "Requirement already satisfied: torchvision in /usr/local/lib/python3.10/dist-packages (from -r requirements.txt (line 3)) (0.17.1+cu121)\n",
            "Requirement already satisfied: tqdm in /usr/local/lib/python3.10/dist-packages (from -r requirements.txt (line 4)) (4.66.2)\n",
            "Requirement already satisfied: pytest in /usr/local/lib/python3.10/dist-packages (from -r requirements.txt (line 5)) (7.4.4)\n",
            "Requirement already satisfied: numpy in /usr/local/lib/python3.10/dist-packages (from colossalai->-r requirements.txt (line 1)) (1.25.2)\n",
            "Requirement already satisfied: psutil in /usr/local/lib/python3.10/dist-packages (from colossalai->-r requirements.txt (line 1)) (5.9.5)\n",
            "Requirement already satisfied: packaging in /usr/local/lib/python3.10/dist-packages (from colossalai->-r requirements.txt (line 1)) (24.0)\n",
            "Collecting pre-commit (from colossalai->-r requirements.txt (line 1))\n",
            "  Downloading pre_commit-3.7.0-py2.py3-none-any.whl (204 kB)\n",
            "\u001b[2K     \u001b[90m━━━━━━━━━━━━━━━━━━━━━━━━━━━━━━━━━━━━━━━━\u001b[0m \u001b[32m204.2/204.2 kB\u001b[0m \u001b[31m12.3 MB/s\u001b[0m eta \u001b[36m0:00:00\u001b[0m\n",
            "\u001b[?25hRequirement already satisfied: rich in /usr/local/lib/python3.10/dist-packages (from colossalai->-r requirements.txt (line 1)) (13.7.1)\n",
            "Requirement already satisfied: click in /usr/local/lib/python3.10/dist-packages (from colossalai->-r requirements.txt (line 1)) (8.1.7)\n",
            "Collecting fabric (from colossalai->-r requirements.txt (line 1))\n",
            "  Downloading fabric-3.2.2-py3-none-any.whl (59 kB)\n",
            "\u001b[2K     \u001b[90m━━━━━━━━━━━━━━━━━━━━━━━━━━━━━━━━━━━━━━━━\u001b[0m \u001b[32m59.4/59.4 kB\u001b[0m \u001b[31m9.1 MB/s\u001b[0m eta \u001b[36m0:00:00\u001b[0m\n",
            "\u001b[?25hCollecting contexttimer (from colossalai->-r requirements.txt (line 1))\n",
            "  Downloading contexttimer-0.3.3.tar.gz (4.9 kB)\n",
            "  Preparing metadata (setup.py) ... \u001b[?25l\u001b[?25hdone\n",
            "Collecting ninja (from colossalai->-r requirements.txt (line 1))\n",
            "  Downloading ninja-1.11.1.1-py2.py3-none-manylinux1_x86_64.manylinux_2_5_x86_64.whl (307 kB)\n",
            "\u001b[2K     \u001b[90m━━━━━━━━━━━━━━━━━━━━━━━━━━━━━━━━━━━━━━━━\u001b[0m \u001b[32m307.2/307.2 kB\u001b[0m \u001b[31m17.2 MB/s\u001b[0m eta \u001b[36m0:00:00\u001b[0m\n",
            "\u001b[?25hRequirement already satisfied: safetensors in /usr/local/lib/python3.10/dist-packages (from colossalai->-r requirements.txt (line 1)) (0.4.2)\n",
            "Collecting einops (from colossalai->-r requirements.txt (line 1))\n",
            "  Downloading einops-0.7.0-py3-none-any.whl (44 kB)\n",
            "\u001b[2K     \u001b[90m━━━━━━━━━━━━━━━━━━━━━━━━━━━━━━━━━━━━━━━━\u001b[0m \u001b[32m44.6/44.6 kB\u001b[0m \u001b[31m6.7 MB/s\u001b[0m eta \u001b[36m0:00:00\u001b[0m\n",
            "\u001b[?25hRequirement already satisfied: pydantic in /usr/local/lib/python3.10/dist-packages (from colossalai->-r requirements.txt (line 1)) (2.6.4)\n",
            "Collecting ray (from colossalai->-r requirements.txt (line 1))\n",
            "  Downloading ray-2.10.0-cp310-cp310-manylinux2014_x86_64.whl (65.1 MB)\n",
            "\u001b[2K     \u001b[90m━━━━━━━━━━━━━━━━━━━━━━━━━━━━━━━━━━━━━━━━\u001b[0m \u001b[32m65.1/65.1 MB\u001b[0m \u001b[31m24.9 MB/s\u001b[0m eta \u001b[36m0:00:00\u001b[0m\n",
            "\u001b[?25hRequirement already satisfied: sentencepiece in /usr/local/lib/python3.10/dist-packages (from colossalai->-r requirements.txt (line 1)) (0.1.99)\n",
            "Requirement already satisfied: google in /usr/local/lib/python3.10/dist-packages (from colossalai->-r requirements.txt (line 1)) (2.0.3)\n",
            "Requirement already satisfied: protobuf in /usr/local/lib/python3.10/dist-packages (from colossalai->-r requirements.txt (line 1)) (3.20.3)\n",
            "Requirement already satisfied: filelock in /usr/local/lib/python3.10/dist-packages (from torch->-r requirements.txt (line 2)) (3.13.3)\n",
            "Requirement already satisfied: typing-extensions>=4.8.0 in /usr/local/lib/python3.10/dist-packages (from torch->-r requirements.txt (line 2)) (4.10.0)\n",
            "Requirement already satisfied: sympy in /usr/local/lib/python3.10/dist-packages (from torch->-r requirements.txt (line 2)) (1.12)\n",
            "Requirement already satisfied: networkx in /usr/local/lib/python3.10/dist-packages (from torch->-r requirements.txt (line 2)) (3.2.1)\n",
            "Requirement already satisfied: jinja2 in /usr/local/lib/python3.10/dist-packages (from torch->-r requirements.txt (line 2)) (3.1.3)\n",
            "Requirement already satisfied: fsspec in /usr/local/lib/python3.10/dist-packages (from torch->-r requirements.txt (line 2)) (2023.6.0)\n",
            "Collecting nvidia-cuda-nvrtc-cu12==12.1.105 (from torch->-r requirements.txt (line 2))\n",
            "  Using cached nvidia_cuda_nvrtc_cu12-12.1.105-py3-none-manylinux1_x86_64.whl (23.7 MB)\n",
            "Collecting nvidia-cuda-runtime-cu12==12.1.105 (from torch->-r requirements.txt (line 2))\n",
            "  Using cached nvidia_cuda_runtime_cu12-12.1.105-py3-none-manylinux1_x86_64.whl (823 kB)\n",
            "Collecting nvidia-cuda-cupti-cu12==12.1.105 (from torch->-r requirements.txt (line 2))\n",
            "  Using cached nvidia_cuda_cupti_cu12-12.1.105-py3-none-manylinux1_x86_64.whl (14.1 MB)\n",
            "Collecting nvidia-cudnn-cu12==8.9.2.26 (from torch->-r requirements.txt (line 2))\n",
            "  Using cached nvidia_cudnn_cu12-8.9.2.26-py3-none-manylinux1_x86_64.whl (731.7 MB)\n",
            "Collecting nvidia-cublas-cu12==12.1.3.1 (from torch->-r requirements.txt (line 2))\n",
            "  Using cached nvidia_cublas_cu12-12.1.3.1-py3-none-manylinux1_x86_64.whl (410.6 MB)\n",
            "Collecting nvidia-cufft-cu12==11.0.2.54 (from torch->-r requirements.txt (line 2))\n",
            "  Using cached nvidia_cufft_cu12-11.0.2.54-py3-none-manylinux1_x86_64.whl (121.6 MB)\n",
            "Collecting nvidia-curand-cu12==10.3.2.106 (from torch->-r requirements.txt (line 2))\n",
            "  Using cached nvidia_curand_cu12-10.3.2.106-py3-none-manylinux1_x86_64.whl (56.5 MB)\n",
            "Collecting nvidia-cusolver-cu12==11.4.5.107 (from torch->-r requirements.txt (line 2))\n",
            "  Using cached nvidia_cusolver_cu12-11.4.5.107-py3-none-manylinux1_x86_64.whl (124.2 MB)\n",
            "Collecting nvidia-cusparse-cu12==12.1.0.106 (from torch->-r requirements.txt (line 2))\n",
            "  Using cached nvidia_cusparse_cu12-12.1.0.106-py3-none-manylinux1_x86_64.whl (196.0 MB)\n",
            "Collecting nvidia-nccl-cu12==2.19.3 (from torch->-r requirements.txt (line 2))\n",
            "  Using cached nvidia_nccl_cu12-2.19.3-py3-none-manylinux1_x86_64.whl (166.0 MB)\n",
            "Collecting nvidia-nvtx-cu12==12.1.105 (from torch->-r requirements.txt (line 2))\n",
            "  Using cached nvidia_nvtx_cu12-12.1.105-py3-none-manylinux1_x86_64.whl (99 kB)\n",
            "Requirement already satisfied: triton==2.2.0 in /usr/local/lib/python3.10/dist-packages (from torch->-r requirements.txt (line 2)) (2.2.0)\n",
            "Collecting nvidia-nvjitlink-cu12 (from nvidia-cusolver-cu12==11.4.5.107->torch->-r requirements.txt (line 2))\n",
            "  Using cached nvidia_nvjitlink_cu12-12.4.127-py3-none-manylinux2014_x86_64.whl (21.1 MB)\n",
            "Requirement already satisfied: pillow!=8.3.*,>=5.3.0 in /usr/local/lib/python3.10/dist-packages (from torchvision->-r requirements.txt (line 3)) (9.4.0)\n",
            "Requirement already satisfied: iniconfig in /usr/local/lib/python3.10/dist-packages (from pytest->-r requirements.txt (line 5)) (2.0.0)\n",
            "Requirement already satisfied: pluggy<2.0,>=0.12 in /usr/local/lib/python3.10/dist-packages (from pytest->-r requirements.txt (line 5)) (1.4.0)\n",
            "Requirement already satisfied: exceptiongroup>=1.0.0rc8 in /usr/local/lib/python3.10/dist-packages (from pytest->-r requirements.txt (line 5)) (1.2.0)\n",
            "Requirement already satisfied: tomli>=1.0.0 in /usr/local/lib/python3.10/dist-packages (from pytest->-r requirements.txt (line 5)) (2.0.1)\n",
            "Collecting invoke>=2.0 (from fabric->colossalai->-r requirements.txt (line 1))\n",
            "  Downloading invoke-2.2.0-py3-none-any.whl (160 kB)\n",
            "\u001b[2K     \u001b[90m━━━━━━━━━━━━━━━━━━━━━━━━━━━━━━━━━━━━━━━━\u001b[0m \u001b[32m160.3/160.3 kB\u001b[0m \u001b[31m22.9 MB/s\u001b[0m eta \u001b[36m0:00:00\u001b[0m\n",
            "\u001b[?25hCollecting paramiko>=2.4 (from fabric->colossalai->-r requirements.txt (line 1))\n",
            "  Downloading paramiko-3.4.0-py3-none-any.whl (225 kB)\n",
            "\u001b[2K     \u001b[90m━━━━━━━━━━━━━━━━━━━━━━━━━━━━━━━━━━━━━━━━\u001b[0m \u001b[32m225.9/225.9 kB\u001b[0m \u001b[31m28.1 MB/s\u001b[0m eta \u001b[36m0:00:00\u001b[0m\n",
            "\u001b[?25hCollecting decorator>=5 (from fabric->colossalai->-r requirements.txt (line 1))\n",
            "  Downloading decorator-5.1.1-py3-none-any.whl (9.1 kB)\n",
            "Collecting deprecated>=1.2 (from fabric->colossalai->-r requirements.txt (line 1))\n",
            "  Downloading Deprecated-1.2.14-py2.py3-none-any.whl (9.6 kB)\n",
            "Requirement already satisfied: beautifulsoup4 in /usr/local/lib/python3.10/dist-packages (from google->colossalai->-r requirements.txt (line 1)) (4.12.3)\n",
            "Requirement already satisfied: MarkupSafe>=2.0 in /usr/local/lib/python3.10/dist-packages (from jinja2->torch->-r requirements.txt (line 2)) (2.1.5)\n",
            "Collecting cfgv>=2.0.0 (from pre-commit->colossalai->-r requirements.txt (line 1))\n",
            "  Downloading cfgv-3.4.0-py2.py3-none-any.whl (7.2 kB)\n",
            "Collecting identify>=1.0.0 (from pre-commit->colossalai->-r requirements.txt (line 1))\n",
            "  Downloading identify-2.5.35-py2.py3-none-any.whl (98 kB)\n",
            "\u001b[2K     \u001b[90m━━━━━━━━━━━━━━━━━━━━━━━━━━━━━━━━━━━━━━━━\u001b[0m \u001b[32m98.9/98.9 kB\u001b[0m \u001b[31m15.3 MB/s\u001b[0m eta \u001b[36m0:00:00\u001b[0m\n",
            "\u001b[?25hCollecting nodeenv>=0.11.1 (from pre-commit->colossalai->-r requirements.txt (line 1))\n",
            "  Downloading nodeenv-1.8.0-py2.py3-none-any.whl (22 kB)\n",
            "Requirement already satisfied: pyyaml>=5.1 in /usr/local/lib/python3.10/dist-packages (from pre-commit->colossalai->-r requirements.txt (line 1)) (6.0.1)\n",
            "Collecting virtualenv>=20.10.0 (from pre-commit->colossalai->-r requirements.txt (line 1))\n",
            "  Downloading virtualenv-20.25.1-py3-none-any.whl (3.8 MB)\n",
            "\u001b[2K     \u001b[90m━━━━━━━━━━━━━━━━━━━━━━━━━━━━━━━━━━━━━━━━\u001b[0m \u001b[32m3.8/3.8 MB\u001b[0m \u001b[31m100.6 MB/s\u001b[0m eta \u001b[36m0:00:00\u001b[0m\n",
            "\u001b[?25hRequirement already satisfied: annotated-types>=0.4.0 in /usr/local/lib/python3.10/dist-packages (from pydantic->colossalai->-r requirements.txt (line 1)) (0.6.0)\n",
            "Requirement already satisfied: pydantic-core==2.16.3 in /usr/local/lib/python3.10/dist-packages (from pydantic->colossalai->-r requirements.txt (line 1)) (2.16.3)\n",
            "Requirement already satisfied: jsonschema in /usr/local/lib/python3.10/dist-packages (from ray->colossalai->-r requirements.txt (line 1)) (4.19.2)\n",
            "Requirement already satisfied: msgpack<2.0.0,>=1.0.0 in /usr/local/lib/python3.10/dist-packages (from ray->colossalai->-r requirements.txt (line 1)) (1.0.8)\n",
            "Requirement already satisfied: aiosignal in /usr/local/lib/python3.10/dist-packages (from ray->colossalai->-r requirements.txt (line 1)) (1.3.1)\n",
            "Requirement already satisfied: frozenlist in /usr/local/lib/python3.10/dist-packages (from ray->colossalai->-r requirements.txt (line 1)) (1.4.1)\n",
            "Requirement already satisfied: requests in /usr/local/lib/python3.10/dist-packages (from ray->colossalai->-r requirements.txt (line 1)) (2.31.0)\n",
            "Requirement already satisfied: markdown-it-py>=2.2.0 in /usr/local/lib/python3.10/dist-packages (from rich->colossalai->-r requirements.txt (line 1)) (3.0.0)\n",
            "Requirement already satisfied: pygments<3.0.0,>=2.13.0 in /usr/local/lib/python3.10/dist-packages (from rich->colossalai->-r requirements.txt (line 1)) (2.16.1)\n",
            "Requirement already satisfied: mpmath>=0.19 in /usr/local/lib/python3.10/dist-packages (from sympy->torch->-r requirements.txt (line 2)) (1.3.0)\n",
            "Requirement already satisfied: wrapt<2,>=1.10 in /usr/local/lib/python3.10/dist-packages (from deprecated>=1.2->fabric->colossalai->-r requirements.txt (line 1)) (1.14.1)\n",
            "Requirement already satisfied: mdurl~=0.1 in /usr/local/lib/python3.10/dist-packages (from markdown-it-py>=2.2.0->rich->colossalai->-r requirements.txt (line 1)) (0.1.2)\n",
            "Requirement already satisfied: setuptools in /usr/local/lib/python3.10/dist-packages (from nodeenv>=0.11.1->pre-commit->colossalai->-r requirements.txt (line 1)) (67.7.2)\n",
            "Collecting bcrypt>=3.2 (from paramiko>=2.4->fabric->colossalai->-r requirements.txt (line 1))\n",
            "  Downloading bcrypt-4.1.2-cp39-abi3-manylinux_2_28_x86_64.whl (698 kB)\n",
            "\u001b[2K     \u001b[90m━━━━━━━━━━━━━━━━━━━━━━━━━━━━━━━━━━━━━━━━\u001b[0m \u001b[32m698.9/698.9 kB\u001b[0m \u001b[31m65.8 MB/s\u001b[0m eta \u001b[36m0:00:00\u001b[0m\n",
            "\u001b[?25hRequirement already satisfied: cryptography>=3.3 in /usr/local/lib/python3.10/dist-packages (from paramiko>=2.4->fabric->colossalai->-r requirements.txt (line 1)) (42.0.5)\n",
            "Collecting pynacl>=1.5 (from paramiko>=2.4->fabric->colossalai->-r requirements.txt (line 1))\n",
            "  Downloading PyNaCl-1.5.0-cp36-abi3-manylinux_2_17_x86_64.manylinux2014_x86_64.manylinux_2_24_x86_64.whl (856 kB)\n",
            "\u001b[2K     \u001b[90m━━━━━━━━━━━━━━━━━━━━━━━━━━━━━━━━━━━━━━━━\u001b[0m \u001b[32m856.7/856.7 kB\u001b[0m \u001b[31m70.9 MB/s\u001b[0m eta \u001b[36m0:00:00\u001b[0m\n",
            "\u001b[?25hCollecting distlib<1,>=0.3.7 (from virtualenv>=20.10.0->pre-commit->colossalai->-r requirements.txt (line 1))\n",
            "  Downloading distlib-0.3.8-py2.py3-none-any.whl (468 kB)\n",
            "\u001b[2K     \u001b[90m━━━━━━━━━━━━━━━━━━━━━━━━━━━━━━━━━━━━━━━━\u001b[0m \u001b[32m468.9/468.9 kB\u001b[0m \u001b[31m52.9 MB/s\u001b[0m eta \u001b[36m0:00:00\u001b[0m\n",
            "\u001b[?25hRequirement already satisfied: platformdirs<5,>=3.9.1 in /usr/local/lib/python3.10/dist-packages (from virtualenv>=20.10.0->pre-commit->colossalai->-r requirements.txt (line 1)) (4.2.0)\n",
            "Requirement already satisfied: soupsieve>1.2 in /usr/local/lib/python3.10/dist-packages (from beautifulsoup4->google->colossalai->-r requirements.txt (line 1)) (2.5)\n",
            "Requirement already satisfied: attrs>=22.2.0 in /usr/local/lib/python3.10/dist-packages (from jsonschema->ray->colossalai->-r requirements.txt (line 1)) (23.2.0)\n",
            "Requirement already satisfied: jsonschema-specifications>=2023.03.6 in /usr/local/lib/python3.10/dist-packages (from jsonschema->ray->colossalai->-r requirements.txt (line 1)) (2023.12.1)\n",
            "Requirement already satisfied: referencing>=0.28.4 in /usr/local/lib/python3.10/dist-packages (from jsonschema->ray->colossalai->-r requirements.txt (line 1)) (0.34.0)\n",
            "Requirement already satisfied: rpds-py>=0.7.1 in /usr/local/lib/python3.10/dist-packages (from jsonschema->ray->colossalai->-r requirements.txt (line 1)) (0.18.0)\n",
            "Requirement already satisfied: charset-normalizer<4,>=2 in /usr/local/lib/python3.10/dist-packages (from requests->ray->colossalai->-r requirements.txt (line 1)) (3.3.2)\n",
            "Requirement already satisfied: idna<4,>=2.5 in /usr/local/lib/python3.10/dist-packages (from requests->ray->colossalai->-r requirements.txt (line 1)) (3.6)\n",
            "Requirement already satisfied: urllib3<3,>=1.21.1 in /usr/local/lib/python3.10/dist-packages (from requests->ray->colossalai->-r requirements.txt (line 1)) (2.0.7)\n",
            "Requirement already satisfied: certifi>=2017.4.17 in /usr/local/lib/python3.10/dist-packages (from requests->ray->colossalai->-r requirements.txt (line 1)) (2024.2.2)\n",
            "Requirement already satisfied: cffi>=1.12 in /usr/local/lib/python3.10/dist-packages (from cryptography>=3.3->paramiko>=2.4->fabric->colossalai->-r requirements.txt (line 1)) (1.16.0)\n",
            "Requirement already satisfied: pycparser in /usr/local/lib/python3.10/dist-packages (from cffi>=1.12->cryptography>=3.3->paramiko>=2.4->fabric->colossalai->-r requirements.txt (line 1)) (2.22)\n",
            "Building wheels for collected packages: colossalai, contexttimer\n",
            "  Building wheel for colossalai (setup.py) ... \u001b[?25l\u001b[?25hdone\n",
            "  Created wheel for colossalai: filename=colossalai-0.3.6-py3-none-any.whl size=1389734 sha256=33e6083426f7bb494f778cb6724eee912eb9db2791836dbee84cd1b29ca94d75\n",
            "  Stored in directory: /root/.cache/pip/wheels/4c/52/8e/8ff9fb0a6ec328844d9344eb1e1adc29f3d05886adb2a3551a\n",
            "  Building wheel for contexttimer (setup.py) ... \u001b[?25l\u001b[?25hdone\n",
            "  Created wheel for contexttimer: filename=contexttimer-0.3.3-py3-none-any.whl size=5804 sha256=2a355642b50aff9c5a569db55ab8827f438f4f39a302ded6c207ab6bb68c77b2\n",
            "  Stored in directory: /root/.cache/pip/wheels/72/1c/da/cfd97201d88ccce214427fa84a5caeb91fef7c5a1b4c4312b4\n",
            "Successfully built colossalai contexttimer\n",
            "Installing collected packages: ninja, distlib, contexttimer, virtualenv, nvidia-nvtx-cu12, nvidia-nvjitlink-cu12, nvidia-nccl-cu12, nvidia-curand-cu12, nvidia-cufft-cu12, nvidia-cuda-runtime-cu12, nvidia-cuda-nvrtc-cu12, nvidia-cuda-cupti-cu12, nvidia-cublas-cu12, nodeenv, invoke, identify, einops, deprecated, decorator, cfgv, bcrypt, pynacl, pre-commit, nvidia-cusparse-cu12, nvidia-cudnn-cu12, paramiko, nvidia-cusolver-cu12, ray, fabric, colossalai\n",
            "  Attempting uninstall: decorator\n",
            "    Found existing installation: decorator 4.4.2\n",
            "    Uninstalling decorator-4.4.2:\n",
            "      Successfully uninstalled decorator-4.4.2\n",
            "\u001b[31mERROR: pip's dependency resolver does not currently take into account all the packages that are installed. This behaviour is the source of the following dependency conflicts.\n",
            "ipython 7.34.0 requires jedi>=0.16, which is not installed.\n",
            "moviepy 1.0.3 requires decorator<5.0,>=4.0.2, but you have decorator 5.1.1 which is incompatible.\u001b[0m\u001b[31m\n",
            "\u001b[0mSuccessfully installed bcrypt-4.1.2 cfgv-3.4.0 colossalai-0.3.6 contexttimer-0.3.3 decorator-5.1.1 deprecated-1.2.14 distlib-0.3.8 einops-0.7.0 fabric-3.2.2 identify-2.5.35 invoke-2.2.0 ninja-1.11.1.1 nodeenv-1.8.0 nvidia-cublas-cu12-12.1.3.1 nvidia-cuda-cupti-cu12-12.1.105 nvidia-cuda-nvrtc-cu12-12.1.105 nvidia-cuda-runtime-cu12-12.1.105 nvidia-cudnn-cu12-8.9.2.26 nvidia-cufft-cu12-11.0.2.54 nvidia-curand-cu12-10.3.2.106 nvidia-cusolver-cu12-11.4.5.107 nvidia-cusparse-cu12-12.1.0.106 nvidia-nccl-cu12-2.19.3 nvidia-nvjitlink-cu12-12.4.127 nvidia-nvtx-cu12-12.1.105 paramiko-3.4.0 pre-commit-3.7.0 pynacl-1.5.0 ray-2.10.0 virtualenv-20.25.1\n"
          ]
        },
        {
          "output_type": "display_data",
          "data": {
            "application/vnd.colab-display-data+json": {
              "pip_warning": {
                "packages": [
                  "decorator"
                ]
              },
              "id": "d6b286e917fd4fd6bb98d0cca7d66f8b"
            }
          },
          "metadata": {}
        }
      ]
    },
    {
      "cell_type": "code",
      "source": [
        "cd \"/content/drive/MyDrive/Colab Notebooks/NUS MCOMP Sem2/CS5260/asg6/Resnet50_Cifar100\""
      ],
      "metadata": {
        "colab": {
          "base_uri": "https://localhost:8080/"
        },
        "id": "qbTIB-bBTWw4",
        "outputId": "4886ea39-d1a3-4167-c258-0d4cb4165904"
      },
      "execution_count": 1,
      "outputs": [
        {
          "output_type": "stream",
          "name": "stdout",
          "text": [
            "/content/drive/MyDrive/Colab Notebooks/NUS MCOMP Sem2/CS5260/asg6/Resnet50_Cifar100\n"
          ]
        }
      ]
    },
    {
      "cell_type": "code",
      "source": [
        "pwd"
      ],
      "metadata": {
        "colab": {
          "base_uri": "https://localhost:8080/",
          "height": 36
        },
        "id": "T5rP09wsTiV_",
        "outputId": "5d8c946c-2437-4eab-ab53-3b77b3740dca"
      },
      "execution_count": 2,
      "outputs": [
        {
          "output_type": "execute_result",
          "data": {
            "text/plain": [
              "'/content/drive/MyDrive/Colab Notebooks/NUS MCOMP Sem2/CS5260/asg6/Resnet50_Cifar100'"
            ],
            "application/vnd.google.colaboratory.intrinsic+json": {
              "type": "string"
            }
          },
          "metadata": {},
          "execution_count": 2
        }
      ]
    },
    {
      "cell_type": "code",
      "source": [
        "# train with torch DDP with fp32\n",
        "!colossalai run --nproc_per_node 1 train.py -c ./ckpt-fp32"
      ],
      "metadata": {
        "id": "ry212DfBbWgL"
      },
      "execution_count": null,
      "outputs": []
    },
    {
      "cell_type": "code",
      "source": [
        "# evaluate fp32 training\n",
        "!python eval.py -c ./ckpt-fp32 -e 80"
      ],
      "metadata": {
        "id": "0zzOmrNUbdHs"
      },
      "execution_count": null,
      "outputs": []
    },
    {
      "cell_type": "code",
      "source": [
        "# train with torch DDP with mixed precision training\n",
        "!colossalai run --nproc_per_node 1 train.py -c ./ckpt-fp16 -p torch_ddp_fp16"
      ],
      "metadata": {
        "colab": {
          "base_uri": "https://localhost:8080/"
        },
        "id": "-XivbuppT7_M",
        "outputId": "bc576011-e2ba-4dfc-b987-32f3b0694fc3"
      },
      "execution_count": 3,
      "outputs": [
        {
          "output_type": "stream",
          "name": "stdout",
          "text": [
            "/usr/local/lib/python3.10/dist-packages/colossalai/pipeline/schedule/_utils.py:19: UserWarning: torch.utils._pytree._register_pytree_node is deprecated. Please use torch.utils._pytree.register_pytree_node instead.\n",
            "  _register_pytree_node(OrderedDict, _odict_flatten, _odict_unflatten)\n",
            "/usr/local/lib/python3.10/dist-packages/torch/utils/_pytree.py:254: UserWarning: <class 'collections.OrderedDict'> is already registered as pytree node. Overwriting the previous registration.\n",
            "  warnings.warn(\n",
            "/usr/local/lib/python3.10/dist-packages/colossalai/shardformer/layer/normalization.py:45: UserWarning: Please install apex from source (https://github.com/NVIDIA/apex) to use the fused layernorm kernel\n",
            "  warnings.warn(\"Please install apex from source (https://github.com/NVIDIA/apex) to use the fused layernorm kernel\")\n",
            "/usr/local/lib/python3.10/dist-packages/colossalai/initialize.py:48: UserWarning: `config` is deprecated and will be removed soon.\n",
            "  warnings.warn(\"`config` is deprecated and will be removed soon.\")\n",
            "[04/11/24 10:17:35] INFO     colossalai - colossalai - INFO:                                        \n",
            "                             /usr/local/lib/python3.10/dist-packages/colossalai/initialize.py:67    \n",
            "                             launch                                                                 \n",
            "                    INFO     colossalai - colossalai - INFO: Distributed environment is initialized,\n",
            "                             world size: 1                                                          \n",
            "Downloading https://www.cs.toronto.edu/~kriz/cifar-100-python.tar.gz to ./data/cifar-100-python.tar.gz\n",
            "100%|██████████| 169001437/169001437 [00:04<00:00, 42053048.10it/s]\n",
            "Extracting ./data/cifar-100-python.tar.gz to ./data\n",
            "Files already downloaded and verified\n",
            "/usr/local/lib/python3.10/dist-packages/colossalai/kernel/extensions/utils.py:96: UserWarning: [extension] The CUDA version on the system (12.2) does not match with the version (12.1) torch was compiled with. The mismatch is found in the minor version. As the APIs are compatible, we will allow compilation to proceed. If you encounter any issue when using the built kernel, please try to build it again with fully matched CUDA versions\n",
            "  warnings.warn(\n",
            "[extension] Compiling the JIT cpu_adam_x86 kernel during runtime now\n",
            "[extension] Time taken to compile cpu_adam_x86 op: 34.76913857460022 seconds\n",
            "/usr/local/lib/python3.10/dist-packages/colossalai/kernel/extensions/utils.py:96: UserWarning: [extension] The CUDA version on the system (12.2) does not match with the version (12.1) torch was compiled with. The mismatch is found in the minor version. As the APIs are compatible, we will allow compilation to proceed. If you encounter any issue when using the built kernel, please try to build it again with fully matched CUDA versions\n",
            "  warnings.warn(\n",
            "[extension] Compiling the JIT fused_optim_cuda kernel during runtime now\n",
            "[extension] Time taken to compile fused_optim_cuda op: 83.78026819229126 seconds\n",
            "/usr/local/lib/python3.10/dist-packages/colossalai/nn/optimizer/hybrid_adam.py:90: UserWarning: The torch.cuda.*DtypeTensor constructors are no longer recommended. It's best to use methods such as torch.tensor(data, dtype=*, device='cuda') to create tensors. (Triggered internally at ../torch/csrc/tensor/python_tensor.cpp:83.)\n",
            "  self._dummy_overflow_buf = torch.cuda.IntTensor([0])\n",
            "Epoch [1/80]:   0%|          | 0/250 [00:00<?, ?it/s]/usr/local/lib/python3.10/dist-packages/colossalai/nn/optimizer/nvme_optimizer.py:55: UserWarning: TypedStorage is deprecated. It will be removed in the future and UntypedStorage will be the only storage class. This should only matter to you if you are using storages directly.  To access UntypedStorage directly, use tensor.untyped_storage() instead of tensor.storage()\n",
            "  numel += p.storage().size()\n",
            "Epoch [1/80]: 100%|██████████| 250/250 [00:26<00:00,  9.58it/s, loss=3.74]\n",
            "Epoch [2/80]: 100%|██████████| 250/250 [00:25<00:00,  9.92it/s, loss=3.75]\n",
            "Epoch [3/80]: 100%|██████████| 250/250 [00:25<00:00,  9.86it/s, loss=3.49]\n",
            "Epoch [4/80]: 100%|██████████| 250/250 [00:25<00:00,  9.87it/s, loss=3.33]\n",
            "Epoch [5/80]: 100%|██████████| 250/250 [00:25<00:00,  9.91it/s, loss=2.92]\n",
            "Epoch [6/80]: 100%|██████████| 250/250 [00:25<00:00,  9.78it/s, loss=2.96]\n",
            "Epoch [7/80]: 100%|██████████| 250/250 [00:25<00:00,  9.90it/s, loss=2.95]\n",
            "Epoch [8/80]: 100%|██████████| 250/250 [00:25<00:00,  9.78it/s, loss=2.61]\n",
            "Epoch [9/80]: 100%|██████████| 250/250 [00:25<00:00,  9.80it/s, loss=2.57]\n",
            "Epoch [10/80]: 100%|██████████| 250/250 [00:25<00:00,  9.78it/s, loss=2.47]\n",
            "Epoch [11/80]: 100%|██████████| 250/250 [00:25<00:00,  9.70it/s, loss=2.2]\n",
            "Epoch [12/80]: 100%|██████████| 250/250 [00:25<00:00,  9.80it/s, loss=2.24]\n",
            "Epoch [13/80]: 100%|██████████| 250/250 [00:25<00:00,  9.83it/s, loss=2.12]\n",
            "Epoch [14/80]: 100%|██████████| 250/250 [00:25<00:00,  9.87it/s, loss=2.53]\n",
            "Epoch [15/80]: 100%|██████████| 250/250 [00:25<00:00,  9.81it/s, loss=2.09]\n",
            "Epoch [16/80]: 100%|██████████| 250/250 [00:25<00:00,  9.82it/s, loss=2.44]\n",
            "Epoch [17/80]: 100%|██████████| 250/250 [00:25<00:00,  9.90it/s, loss=2.09]\n",
            "Epoch [18/80]: 100%|██████████| 250/250 [00:25<00:00,  9.79it/s, loss=1.78]\n",
            "Epoch [19/80]: 100%|██████████| 250/250 [00:25<00:00,  9.84it/s, loss=2.04]\n",
            "Epoch [20/80]: 100%|██████████| 250/250 [00:25<00:00,  9.79it/s, loss=1.73]\n",
            "Epoch [21/80]: 100%|██████████| 250/250 [00:25<00:00,  9.85it/s, loss=1.43]\n",
            "Epoch [22/80]: 100%|██████████| 250/250 [00:25<00:00,  9.79it/s, loss=1.37]\n",
            "Epoch [23/80]: 100%|██████████| 250/250 [00:25<00:00,  9.77it/s, loss=1.18]\n",
            "Epoch [24/80]: 100%|██████████| 250/250 [00:25<00:00,  9.89it/s, loss=1.06]\n",
            "Epoch [25/80]: 100%|██████████| 250/250 [00:25<00:00,  9.92it/s, loss=0.963]\n",
            "Epoch [26/80]: 100%|██████████| 250/250 [00:25<00:00,  9.76it/s, loss=0.94]\n",
            "Epoch [27/80]: 100%|██████████| 250/250 [00:25<00:00,  9.87it/s, loss=0.784]\n",
            "Epoch [28/80]: 100%|██████████| 250/250 [00:25<00:00,  9.85it/s, loss=0.7]\n",
            "Epoch [29/80]: 100%|██████████| 250/250 [00:25<00:00,  9.84it/s, loss=0.496]\n",
            "Epoch [30/80]: 100%|██████████| 250/250 [00:25<00:00,  9.83it/s, loss=0.513]\n",
            "Epoch [31/80]: 100%|██████████| 250/250 [00:25<00:00,  9.81it/s, loss=0.478]\n",
            "Epoch [32/80]: 100%|██████████| 250/250 [00:25<00:00,  9.85it/s, loss=0.362]\n",
            "Epoch [33/80]: 100%|██████████| 250/250 [00:25<00:00,  9.87it/s, loss=0.252]\n",
            "Epoch [34/80]: 100%|██████████| 250/250 [00:25<00:00,  9.79it/s, loss=0.294]\n",
            "Epoch [35/80]: 100%|██████████| 250/250 [00:25<00:00,  9.78it/s, loss=0.288]\n",
            "Epoch [36/80]: 100%|██████████| 250/250 [00:25<00:00,  9.79it/s, loss=0.239]\n",
            "Epoch [37/80]: 100%|██████████| 250/250 [00:25<00:00,  9.87it/s, loss=0.186]\n",
            "Epoch [38/80]: 100%|██████████| 250/250 [00:25<00:00,  9.91it/s, loss=0.261]\n",
            "Epoch [39/80]: 100%|██████████| 250/250 [00:25<00:00,  9.84it/s, loss=0.313]\n",
            "Epoch [40/80]: 100%|██████████| 250/250 [00:25<00:00,  9.80it/s, loss=0.193]\n",
            "Epoch [41/80]: 100%|██████████| 250/250 [00:25<00:00,  9.76it/s, loss=0.135]\n",
            "Epoch [42/80]: 100%|██████████| 250/250 [00:25<00:00,  9.85it/s, loss=0.0797]\n",
            "Epoch [43/80]: 100%|██████████| 250/250 [00:25<00:00,  9.87it/s, loss=0.127]\n",
            "Epoch [44/80]: 100%|██████████| 250/250 [00:25<00:00,  9.88it/s, loss=0.0829]\n",
            "Epoch [45/80]: 100%|██████████| 250/250 [00:25<00:00,  9.84it/s, loss=0.0673]\n",
            "Epoch [46/80]: 100%|██████████| 250/250 [00:25<00:00,  9.76it/s, loss=0.0705]\n",
            "Epoch [47/80]: 100%|██████████| 250/250 [00:25<00:00,  9.87it/s, loss=0.06]\n",
            "Epoch [48/80]: 100%|██████████| 250/250 [00:25<00:00,  9.86it/s, loss=0.0796]\n",
            "Epoch [49/80]: 100%|██████████| 250/250 [00:25<00:00,  9.81it/s, loss=0.0679]\n",
            "Epoch [50/80]: 100%|██████████| 250/250 [00:25<00:00,  9.81it/s, loss=0.0333]\n",
            "Epoch [51/80]: 100%|██████████| 250/250 [00:25<00:00,  9.77it/s, loss=0.0557]\n",
            "Epoch [52/80]: 100%|██████████| 250/250 [00:25<00:00,  9.80it/s, loss=0.0359]\n",
            "Epoch [53/80]: 100%|██████████| 250/250 [00:25<00:00,  9.79it/s, loss=0.0249]\n",
            "Epoch [54/80]: 100%|██████████| 250/250 [00:25<00:00,  9.82it/s, loss=0.0475]\n",
            "Epoch [55/80]: 100%|██████████| 250/250 [00:25<00:00,  9.81it/s, loss=0.0322]\n",
            "Epoch [56/80]: 100%|██████████| 250/250 [00:25<00:00,  9.76it/s, loss=0.0393]\n",
            "Epoch [57/80]: 100%|██████████| 250/250 [00:25<00:00,  9.81it/s, loss=0.0559]\n",
            "Epoch [58/80]: 100%|██████████| 250/250 [00:25<00:00,  9.85it/s, loss=0.0477]\n",
            "Epoch [59/80]: 100%|██████████| 250/250 [00:25<00:00,  9.80it/s, loss=0.0356]\n",
            "Epoch [60/80]: 100%|██████████| 250/250 [00:25<00:00,  9.83it/s, loss=0.0487]\n",
            "Epoch [61/80]: 100%|██████████| 250/250 [00:25<00:00,  9.75it/s, loss=0.0389]\n",
            "Epoch [62/80]: 100%|██████████| 250/250 [00:25<00:00,  9.86it/s, loss=0.0321]\n",
            "Epoch [63/80]: 100%|██████████| 250/250 [00:25<00:00,  9.86it/s, loss=0.013]\n",
            "Epoch [64/80]: 100%|██████████| 250/250 [00:25<00:00,  9.72it/s, loss=0.0387]\n",
            "Epoch [65/80]: 100%|██████████| 250/250 [00:25<00:00,  9.73it/s, loss=0.0208]\n",
            "Epoch [66/80]: 100%|██████████| 250/250 [00:25<00:00,  9.81it/s, loss=0.0262]\n",
            "Epoch [67/80]: 100%|██████████| 250/250 [00:25<00:00,  9.70it/s, loss=0.0121]\n",
            "Epoch [68/80]: 100%|██████████| 250/250 [00:25<00:00,  9.73it/s, loss=0.00973]\n",
            "Epoch [69/80]: 100%|██████████| 250/250 [00:25<00:00,  9.77it/s, loss=0.0114]\n",
            "Epoch [70/80]: 100%|██████████| 250/250 [00:25<00:00,  9.69it/s, loss=0.016]\n",
            "Epoch [71/80]: 100%|██████████| 250/250 [00:26<00:00,  9.62it/s, loss=0.00871]\n",
            "Epoch [72/80]: 100%|██████████| 250/250 [00:25<00:00,  9.71it/s, loss=0.00817]\n",
            "Epoch [73/80]: 100%|██████████| 250/250 [00:25<00:00,  9.68it/s, loss=0.0199]\n",
            "Epoch [74/80]: 100%|██████████| 250/250 [00:25<00:00,  9.75it/s, loss=0.00742]\n",
            "Epoch [75/80]: 100%|██████████| 250/250 [00:25<00:00,  9.73it/s, loss=0.00745]\n",
            "Epoch [76/80]: 100%|██████████| 250/250 [00:25<00:00,  9.74it/s, loss=0.0113]\n",
            "Epoch [77/80]: 100%|██████████| 250/250 [00:25<00:00,  9.81it/s, loss=0.0144]\n",
            "Epoch [78/80]: 100%|██████████| 250/250 [00:25<00:00,  9.81it/s, loss=0.00478]\n",
            "Epoch [79/80]: 100%|██████████| 250/250 [00:25<00:00,  9.84it/s, loss=0.00506]\n",
            "Epoch [80/80]: 100%|██████████| 250/250 [00:25<00:00,  9.85it/s, loss=0.00658]\n",
            "Accuracy of the model on the test images: 45.12 %\n",
            "\n",
            "====== Training on All Nodes =====\n",
            "127.0.0.1: success\n",
            "\n",
            "====== Stopping All Nodes =====\n",
            "127.0.0.1: finish\n"
          ]
        }
      ]
    },
    {
      "cell_type": "code",
      "source": [
        "# evaluate fp16 mixed precision training\n",
        "!python eval.py -c ./ckpt-fp16 -e 80"
      ],
      "metadata": {
        "colab": {
          "base_uri": "https://localhost:8080/"
        },
        "id": "VOa2Pl46bLpd",
        "outputId": "61c822b0-a0b0-4285-f75c-0e0953e9091a"
      },
      "execution_count": 4,
      "outputs": [
        {
          "output_type": "stream",
          "name": "stdout",
          "text": [
            "Accuracy of the model on the test images: 45.11 %\n"
          ]
        }
      ]
    },
    {
      "cell_type": "code",
      "source": [
        "# train with low level zero\n",
        "!colossalai run --nproc_per_node 2 train.py -c ./ckpt-low_level_zero -p low_level_zero"
      ],
      "metadata": {
        "id": "8PfUbcQ9bojB"
      },
      "execution_count": null,
      "outputs": []
    },
    {
      "cell_type": "code",
      "source": [
        "# evaluate low level zero training\n",
        "!python eval.py -c ./ckpt-low_level_zero -e 80"
      ],
      "metadata": {
        "id": "S3XtTaD6bsTO"
      },
      "execution_count": null,
      "outputs": []
    }
  ]
}